{
  "nbformat": 4,
  "nbformat_minor": 0,
  "metadata": {
    "accelerator": "GPU",
    "colab": {
      "name": "cls_tags.ipynb",
      "version": "0.3.2",
      "provenance": [],
      "toc_visible": true,
      "machine_shape": "hm"
    },
    "kernelspec": {
      "display_name": "Python 3",
      "language": "python",
      "name": "python3"
    },
    "language_info": {
      "codemirror_mode": {
        "name": "ipython",
        "version": 3
      },
      "file_extension": ".py",
      "mimetype": "text/x-python",
      "name": "python",
      "nbconvert_exporter": "python",
      "pygments_lexer": "ipython3",
      "version": "3.7.4"
    }
  },
  "cells": [
    {
      "cell_type": "code",
      "metadata": {
        "colab_type": "code",
        "id": "ifDydRIDx7Pm",
        "colab": {}
      },
      "source": [
        "# Classyfing YouTube videos using tags"
      ],
      "execution_count": 0,
      "outputs": []
    },
    {
      "cell_type": "code",
      "metadata": {
        "id": "ACiOhi2mWh8V",
        "colab_type": "code",
        "colab": {}
      },
      "source": [
        "from __future__ import absolute_import, division, print_function, unicode_literals\n",
        "\n",
        "import numpy as np\n",
        "import pandas as pd\n",
        "from tensorflow import keras\n",
        "import tensorflow as tf\n",
        "\n",
        "from tensorflow import feature_column\n",
        "from tensorflow.keras import layers\n",
        "from sklearn.model_selection import train_test_split\n",
        "\n",
        "from tag_handler import *"
      ],
      "execution_count": 0,
      "outputs": []
    },
    {
      "cell_type": "code",
      "metadata": {
        "colab_type": "code",
        "id": "eL9eaTrLx7Ps",
        "outputId": "3a0c0b45-1ebc-4b95-8548-64189aadd6c1",
        "scrolled": true,
        "colab": {
          "base_uri": "https://localhost:8080/",
          "height": 350
        }
      },
      "source": [
        "from cvs_reader import *\n",
        "from vocab import *\n",
        "from dataframe_creator import create_seperate_columns, create_listed_columns\n",
        "\n",
        "# Get dataframe with tags and category_id columns\n",
        "csvpath = 'data/CAvideos.csv'\n",
        "tab_dataframe = load_dataframe(csvpath, ['tags', 'category_id'])\n",
        "max_of_tags = 25\n",
        "\n",
        "vocab = get_tags_vocab(tab_dataframe['tags'])\n",
        "tab_dataframe = create_seperate_columns(tab_dataframe, max_of_tags, 'tags')\n",
        "\n",
        "tab_dataframe.head()"
      ],
      "execution_count": 0,
      "outputs": [
        {
          "output_type": "execute_result",
          "data": {
            "text/html": [
              "<div>\n",
              "<style scoped>\n",
              "    .dataframe tbody tr th:only-of-type {\n",
              "        vertical-align: middle;\n",
              "    }\n",
              "\n",
              "    .dataframe tbody tr th {\n",
              "        vertical-align: top;\n",
              "    }\n",
              "\n",
              "    .dataframe thead th {\n",
              "        text-align: right;\n",
              "    }\n",
              "</style>\n",
              "<table border=\"1\" class=\"dataframe\">\n",
              "  <thead>\n",
              "    <tr style=\"text-align: right;\">\n",
              "      <th></th>\n",
              "      <th>category_id</th>\n",
              "      <th>tag_0</th>\n",
              "      <th>tag_1</th>\n",
              "      <th>tag_2</th>\n",
              "      <th>tag_3</th>\n",
              "      <th>tag_4</th>\n",
              "      <th>tag_5</th>\n",
              "      <th>tag_6</th>\n",
              "      <th>tag_7</th>\n",
              "      <th>tag_8</th>\n",
              "      <th>...</th>\n",
              "      <th>tag_15</th>\n",
              "      <th>tag_16</th>\n",
              "      <th>tag_17</th>\n",
              "      <th>tag_18</th>\n",
              "      <th>tag_19</th>\n",
              "      <th>tag_20</th>\n",
              "      <th>tag_21</th>\n",
              "      <th>tag_22</th>\n",
              "      <th>tag_23</th>\n",
              "      <th>tag_24</th>\n",
              "    </tr>\n",
              "  </thead>\n",
              "  <tbody>\n",
              "    <tr>\n",
              "      <th>0</th>\n",
              "      <td>10</td>\n",
              "      <td>Eminem</td>\n",
              "      <td>Walk</td>\n",
              "      <td>On</td>\n",
              "      <td>Water</td>\n",
              "      <td>Aftermath/Shady/Interscope</td>\n",
              "      <td>Rap</td>\n",
              "      <td>notags</td>\n",
              "      <td>notags</td>\n",
              "      <td>notags</td>\n",
              "      <td>...</td>\n",
              "      <td>notags</td>\n",
              "      <td>notags</td>\n",
              "      <td>notags</td>\n",
              "      <td>notags</td>\n",
              "      <td>notags</td>\n",
              "      <td>notags</td>\n",
              "      <td>notags</td>\n",
              "      <td>notags</td>\n",
              "      <td>notags</td>\n",
              "      <td>notags</td>\n",
              "    </tr>\n",
              "    <tr>\n",
              "      <th>1</th>\n",
              "      <td>23</td>\n",
              "      <td>plush</td>\n",
              "      <td>bad unboxing</td>\n",
              "      <td>unboxing</td>\n",
              "      <td>fan mail</td>\n",
              "      <td>idubbbztv</td>\n",
              "      <td>idubbbztv2</td>\n",
              "      <td>things</td>\n",
              "      <td>best</td>\n",
              "      <td>packages</td>\n",
              "      <td>...</td>\n",
              "      <td>notags</td>\n",
              "      <td>notags</td>\n",
              "      <td>notags</td>\n",
              "      <td>notags</td>\n",
              "      <td>notags</td>\n",
              "      <td>notags</td>\n",
              "      <td>notags</td>\n",
              "      <td>notags</td>\n",
              "      <td>notags</td>\n",
              "      <td>notags</td>\n",
              "    </tr>\n",
              "    <tr>\n",
              "      <th>2</th>\n",
              "      <td>23</td>\n",
              "      <td>racist superman</td>\n",
              "      <td>rudy</td>\n",
              "      <td>mancuso</td>\n",
              "      <td>king</td>\n",
              "      <td>bach</td>\n",
              "      <td>racist</td>\n",
              "      <td>superman</td>\n",
              "      <td>love</td>\n",
              "      <td>rudy mancuso poo bear black white official mus...</td>\n",
              "      <td>...</td>\n",
              "      <td>sarkis</td>\n",
              "      <td>shots</td>\n",
              "      <td>shotsstudios</td>\n",
              "      <td>alesso</td>\n",
              "      <td>anitta</td>\n",
              "      <td>brazil</td>\n",
              "      <td>Getting My Driver's License</td>\n",
              "      <td>Lele Pons</td>\n",
              "      <td>notags</td>\n",
              "      <td>notags</td>\n",
              "    </tr>\n",
              "    <tr>\n",
              "      <th>3</th>\n",
              "      <td>24</td>\n",
              "      <td>ryan</td>\n",
              "      <td>higa</td>\n",
              "      <td>higatv</td>\n",
              "      <td>nigahiga</td>\n",
              "      <td>i dare you</td>\n",
              "      <td>idy</td>\n",
              "      <td>rhpc</td>\n",
              "      <td>dares</td>\n",
              "      <td>no truth</td>\n",
              "      <td>...</td>\n",
              "      <td>notags</td>\n",
              "      <td>notags</td>\n",
              "      <td>notags</td>\n",
              "      <td>notags</td>\n",
              "      <td>notags</td>\n",
              "      <td>notags</td>\n",
              "      <td>notags</td>\n",
              "      <td>notags</td>\n",
              "      <td>notags</td>\n",
              "      <td>notags</td>\n",
              "    </tr>\n",
              "    <tr>\n",
              "      <th>4</th>\n",
              "      <td>10</td>\n",
              "      <td>edsheeran</td>\n",
              "      <td>ed sheeran</td>\n",
              "      <td>acoustic</td>\n",
              "      <td>live</td>\n",
              "      <td>cover</td>\n",
              "      <td>official</td>\n",
              "      <td>remix</td>\n",
              "      <td>official video</td>\n",
              "      <td>lyrics</td>\n",
              "      <td>...</td>\n",
              "      <td>notags</td>\n",
              "      <td>notags</td>\n",
              "      <td>notags</td>\n",
              "      <td>notags</td>\n",
              "      <td>notags</td>\n",
              "      <td>notags</td>\n",
              "      <td>notags</td>\n",
              "      <td>notags</td>\n",
              "      <td>notags</td>\n",
              "      <td>notags</td>\n",
              "    </tr>\n",
              "  </tbody>\n",
              "</table>\n",
              "<p>5 rows × 26 columns</p>\n",
              "</div>"
            ],
            "text/plain": [
              "   category_id            tag_0         tag_1     tag_2     tag_3  \\\n",
              "0           10           Eminem          Walk        On     Water   \n",
              "1           23            plush  bad unboxing  unboxing  fan mail   \n",
              "2           23  racist superman          rudy   mancuso      king   \n",
              "3           24             ryan          higa    higatv  nigahiga   \n",
              "4           10        edsheeran    ed sheeran  acoustic      live   \n",
              "\n",
              "                        tag_4       tag_5     tag_6           tag_7  \\\n",
              "0  Aftermath/Shady/Interscope         Rap    notags          notags   \n",
              "1                   idubbbztv  idubbbztv2    things            best   \n",
              "2                        bach      racist  superman            love   \n",
              "3                  i dare you         idy      rhpc           dares   \n",
              "4                       cover    official     remix  official video   \n",
              "\n",
              "                                               tag_8  ...  tag_15  tag_16  \\\n",
              "0                                             notags  ...  notags  notags   \n",
              "1                                           packages  ...  notags  notags   \n",
              "2  rudy mancuso poo bear black white official mus...  ...  sarkis   shots   \n",
              "3                                           no truth  ...  notags  notags   \n",
              "4                                             lyrics  ...  notags  notags   \n",
              "\n",
              "         tag_17  tag_18  tag_19  tag_20                        tag_21  \\\n",
              "0        notags  notags  notags  notags                        notags   \n",
              "1        notags  notags  notags  notags                        notags   \n",
              "2  shotsstudios  alesso  anitta  brazil  Getting My Driver's License    \n",
              "3        notags  notags  notags  notags                        notags   \n",
              "4        notags  notags  notags  notags                        notags   \n",
              "\n",
              "       tag_22  tag_23  tag_24  \n",
              "0      notags  notags  notags  \n",
              "1      notags  notags  notags  \n",
              "2   Lele Pons  notags  notags  \n",
              "3      notags  notags  notags  \n",
              "4      notags  notags  notags  \n",
              "\n",
              "[5 rows x 26 columns]"
            ]
          },
          "metadata": {
            "tags": []
          },
          "execution_count": 2
        }
      ]
    },
    {
      "cell_type": "code",
      "metadata": {
        "id": "R4l5v3CodBJF",
        "colab_type": "code",
        "colab": {}
      },
      "source": [
        "dfs = [x for _, x in tab_dataframe.groupby('category_id')]\n"
      ],
      "execution_count": 0,
      "outputs": []
    },
    {
      "cell_type": "code",
      "metadata": {
        "colab_type": "code",
        "id": "ZZnX4H9wx7Pv",
        "outputId": "abe50939-5c67-4885-d5d0-349902bfa4cb",
        "colab": {
          "base_uri": "https://localhost:8080/",
          "height": 215
        }
      },
      "source": [
        "# Convert vocab to dictionary\n",
        "voc_di = get_tags_vocab_as_dict(vocab)\n",
        "\n",
        "# Mapping tags to indexes in vocab\n",
        "for col in tab_dataframe.columns:\n",
        "    if col == 'category_id':\n",
        "      continue\n",
        "    tab_dataframe[col] = tab_dataframe[col].map(voc_di)\n",
        "\n",
        "tab_dataframe.fillna(0, inplace = True) \n",
        "tab_dataframe.head()"
      ],
      "execution_count": 0,
      "outputs": [
        {
          "output_type": "execute_result",
          "data": {
            "text/html": [
              "<div>\n",
              "<style scoped>\n",
              "    .dataframe tbody tr th:only-of-type {\n",
              "        vertical-align: middle;\n",
              "    }\n",
              "\n",
              "    .dataframe tbody tr th {\n",
              "        vertical-align: top;\n",
              "    }\n",
              "\n",
              "    .dataframe thead th {\n",
              "        text-align: right;\n",
              "    }\n",
              "</style>\n",
              "<table border=\"1\" class=\"dataframe\">\n",
              "  <thead>\n",
              "    <tr style=\"text-align: right;\">\n",
              "      <th></th>\n",
              "      <th>category_id</th>\n",
              "      <th>tag_0</th>\n",
              "      <th>tag_1</th>\n",
              "      <th>tag_2</th>\n",
              "      <th>tag_3</th>\n",
              "      <th>tag_4</th>\n",
              "      <th>tag_5</th>\n",
              "      <th>tag_6</th>\n",
              "      <th>tag_7</th>\n",
              "      <th>tag_8</th>\n",
              "      <th>...</th>\n",
              "      <th>tag_15</th>\n",
              "      <th>tag_16</th>\n",
              "      <th>tag_17</th>\n",
              "      <th>tag_18</th>\n",
              "      <th>tag_19</th>\n",
              "      <th>tag_20</th>\n",
              "      <th>tag_21</th>\n",
              "      <th>tag_22</th>\n",
              "      <th>tag_23</th>\n",
              "      <th>tag_24</th>\n",
              "    </tr>\n",
              "  </thead>\n",
              "  <tbody>\n",
              "    <tr>\n",
              "      <th>0</th>\n",
              "      <td>10</td>\n",
              "      <td>100346</td>\n",
              "      <td>65978</td>\n",
              "      <td>63363</td>\n",
              "      <td>60526</td>\n",
              "      <td>10870</td>\n",
              "      <td>111791</td>\n",
              "      <td>-1</td>\n",
              "      <td>-1</td>\n",
              "      <td>-1</td>\n",
              "      <td>...</td>\n",
              "      <td>-1</td>\n",
              "      <td>-1</td>\n",
              "      <td>-1</td>\n",
              "      <td>-1</td>\n",
              "      <td>-1</td>\n",
              "      <td>-1</td>\n",
              "      <td>-1</td>\n",
              "      <td>-1</td>\n",
              "      <td>-1</td>\n",
              "      <td>-1</td>\n",
              "    </tr>\n",
              "    <tr>\n",
              "      <th>1</th>\n",
              "      <td>23</td>\n",
              "      <td>21171</td>\n",
              "      <td>94922</td>\n",
              "      <td>23387</td>\n",
              "      <td>141002</td>\n",
              "      <td>127121</td>\n",
              "      <td>13149</td>\n",
              "      <td>112502</td>\n",
              "      <td>81681</td>\n",
              "      <td>1738</td>\n",
              "      <td>...</td>\n",
              "      <td>-1</td>\n",
              "      <td>-1</td>\n",
              "      <td>-1</td>\n",
              "      <td>-1</td>\n",
              "      <td>-1</td>\n",
              "      <td>-1</td>\n",
              "      <td>-1</td>\n",
              "      <td>-1</td>\n",
              "      <td>-1</td>\n",
              "      <td>-1</td>\n",
              "    </tr>\n",
              "    <tr>\n",
              "      <th>2</th>\n",
              "      <td>23</td>\n",
              "      <td>56944</td>\n",
              "      <td>40380</td>\n",
              "      <td>94867</td>\n",
              "      <td>17562</td>\n",
              "      <td>16806</td>\n",
              "      <td>114574</td>\n",
              "      <td>1902</td>\n",
              "      <td>72985</td>\n",
              "      <td>46137</td>\n",
              "      <td>...</td>\n",
              "      <td>88228</td>\n",
              "      <td>55854</td>\n",
              "      <td>136838</td>\n",
              "      <td>47831</td>\n",
              "      <td>119109</td>\n",
              "      <td>136546</td>\n",
              "      <td>88107</td>\n",
              "      <td>82912</td>\n",
              "      <td>-1</td>\n",
              "      <td>-1</td>\n",
              "    </tr>\n",
              "    <tr>\n",
              "      <th>3</th>\n",
              "      <td>24</td>\n",
              "      <td>47228</td>\n",
              "      <td>134834</td>\n",
              "      <td>31481</td>\n",
              "      <td>124390</td>\n",
              "      <td>139937</td>\n",
              "      <td>37794</td>\n",
              "      <td>10074</td>\n",
              "      <td>26801</td>\n",
              "      <td>144928</td>\n",
              "      <td>...</td>\n",
              "      <td>-1</td>\n",
              "      <td>-1</td>\n",
              "      <td>-1</td>\n",
              "      <td>-1</td>\n",
              "      <td>-1</td>\n",
              "      <td>-1</td>\n",
              "      <td>-1</td>\n",
              "      <td>-1</td>\n",
              "      <td>-1</td>\n",
              "      <td>-1</td>\n",
              "    </tr>\n",
              "    <tr>\n",
              "      <th>4</th>\n",
              "      <td>10</td>\n",
              "      <td>110425</td>\n",
              "      <td>22894</td>\n",
              "      <td>17422</td>\n",
              "      <td>38563</td>\n",
              "      <td>97956</td>\n",
              "      <td>145924</td>\n",
              "      <td>147907</td>\n",
              "      <td>132840</td>\n",
              "      <td>108881</td>\n",
              "      <td>...</td>\n",
              "      <td>-1</td>\n",
              "      <td>-1</td>\n",
              "      <td>-1</td>\n",
              "      <td>-1</td>\n",
              "      <td>-1</td>\n",
              "      <td>-1</td>\n",
              "      <td>-1</td>\n",
              "      <td>-1</td>\n",
              "      <td>-1</td>\n",
              "      <td>-1</td>\n",
              "    </tr>\n",
              "  </tbody>\n",
              "</table>\n",
              "<p>5 rows × 26 columns</p>\n",
              "</div>"
            ],
            "text/plain": [
              "   category_id   tag_0   tag_1  tag_2   tag_3   tag_4   tag_5   tag_6   tag_7  \\\n",
              "0           10  100346   65978  63363   60526   10870  111791      -1      -1   \n",
              "1           23   21171   94922  23387  141002  127121   13149  112502   81681   \n",
              "2           23   56944   40380  94867   17562   16806  114574    1902   72985   \n",
              "3           24   47228  134834  31481  124390  139937   37794   10074   26801   \n",
              "4           10  110425   22894  17422   38563   97956  145924  147907  132840   \n",
              "\n",
              "    tag_8  ...  tag_15  tag_16  tag_17  tag_18  tag_19  tag_20  tag_21  \\\n",
              "0      -1  ...      -1      -1      -1      -1      -1      -1      -1   \n",
              "1    1738  ...      -1      -1      -1      -1      -1      -1      -1   \n",
              "2   46137  ...   88228   55854  136838   47831  119109  136546   88107   \n",
              "3  144928  ...      -1      -1      -1      -1      -1      -1      -1   \n",
              "4  108881  ...      -1      -1      -1      -1      -1      -1      -1   \n",
              "\n",
              "   tag_22  tag_23  tag_24  \n",
              "0      -1      -1      -1  \n",
              "1      -1      -1      -1  \n",
              "2   82912      -1      -1  \n",
              "3      -1      -1      -1  \n",
              "4      -1      -1      -1  \n",
              "\n",
              "[5 rows x 26 columns]"
            ]
          },
          "metadata": {
            "tags": []
          },
          "execution_count": 3
        }
      ]
    },
    {
      "cell_type": "code",
      "metadata": {
        "id": "2-QXHYCOc_Lk",
        "colab_type": "code",
        "colab": {}
      },
      "source": [
        ""
      ],
      "execution_count": 0,
      "outputs": []
    },
    {
      "cell_type": "code",
      "metadata": {
        "colab_type": "code",
        "id": "tvsJEkCkx7Pz",
        "colab": {}
      },
      "source": [
        "future_df = []\n",
        "col_row_dict = {}\n",
        "# We only use 1/4 of the dataset!\n",
        "first_half_df = tab_dataframe[:10000]"
      ],
      "execution_count": 0,
      "outputs": []
    },
    {
      "cell_type": "code",
      "metadata": {
        "colab_type": "code",
        "id": "mY94o9_ox7P1",
        "colab": {}
      },
      "source": [
        "for i in range(0, 10000):\n",
        "    for col in first_half_df.columns:\n",
        "        if col == 'category_id':\n",
        "            col_row_dict.update({'category_id':first_half_df[col][i]})\n",
        "        else:\n",
        "            col_row_dict.update({'tag_{}'.format(first_half_df[col][i]):1.0})\n",
        "    future_df.append(col_row_dict)\n",
        "    col_row_dict = {}"
      ],
      "execution_count": 0,
      "outputs": []
    },
    {
      "cell_type": "code",
      "metadata": {
        "colab_type": "code",
        "id": "eSL7MRm6x7P3",
        "outputId": "ff48cfe0-c6d1-4e52-8d85-84dd7bad88a6",
        "colab": {
          "base_uri": "https://localhost:8080/",
          "height": 244
        }
      },
      "source": [
        "final_dataframe = pd.DataFrame(future_df)\n",
        "final_dataframe.fillna(0.0, inplace = True)\n",
        "from input_generator import load_dataset_with_lables\n",
        "final_dataframe.head()"
      ],
      "execution_count": 0,
      "outputs": [
        {
          "output_type": "stream",
          "text": [
            "WARNING: Logging before flag parsing goes to stderr.\n",
            "E0817 14:46:21.177545  8056 ultratb.py:155] Internal Python error in the inspect module.\n",
            "Below is the traceback from this internal error.\n",
            "\n"
          ],
          "name": "stderr"
        },
        {
          "output_type": "stream",
          "text": [
            "Traceback (most recent call last):\n",
            "  File \"d:\\miniconda3\\envs\\youtube-classification\\lib\\site-packages\\IPython\\core\\interactiveshell.py\", line 3243, in run_ast_nodes\n",
            "    mod = Module([node], [])\n",
            "KeyboardInterrupt\n",
            "\n",
            "During handling of the above exception, another exception occurred:\n",
            "\n",
            "Traceback (most recent call last):\n",
            "  File \"d:\\miniconda3\\envs\\youtube-classification\\lib\\site-packages\\IPython\\core\\interactiveshell.py\", line 2040, in showtraceback\n",
            "    stb = value._render_traceback_()\n",
            "AttributeError: 'KeyboardInterrupt' object has no attribute '_render_traceback_'\n",
            "\n",
            "During handling of the above exception, another exception occurred:\n",
            "\n",
            "Traceback (most recent call last):\n",
            "  File \"d:\\miniconda3\\envs\\youtube-classification\\lib\\site-packages\\IPython\\core\\ultratb.py\", line 1101, in get_records\n",
            "    return _fixed_getinnerframes(etb, number_of_lines_of_context, tb_offset)\n",
            "  File \"d:\\miniconda3\\envs\\youtube-classification\\lib\\site-packages\\IPython\\core\\ultratb.py\", line 319, in wrapped\n",
            "    return f(*args, **kwargs)\n",
            "  File \"d:\\miniconda3\\envs\\youtube-classification\\lib\\site-packages\\IPython\\core\\ultratb.py\", line 353, in _fixed_getinnerframes\n",
            "    records = fix_frame_records_filenames(inspect.getinnerframes(etb, context))\n",
            "  File \"d:\\miniconda3\\envs\\youtube-classification\\lib\\inspect.py\", line 1502, in getinnerframes\n",
            "    frameinfo = (tb.tb_frame,) + getframeinfo(tb, context)\n",
            "  File \"d:\\miniconda3\\envs\\youtube-classification\\lib\\inspect.py\", line 1452, in getframeinfo\n",
            "    if istraceback(frame):\n",
            "  File \"d:\\miniconda3\\envs\\youtube-classification\\lib\\inspect.py\", line 236, in istraceback\n",
            "    return isinstance(object, types.TracebackType)\n",
            "KeyboardInterrupt\n"
          ],
          "name": "stdout"
        },
        {
          "output_type": "error",
          "ename": "KeyboardInterrupt",
          "evalue": "",
          "traceback": [
            "\u001b[1;31m---------------------------------------------------------------------------\u001b[0m"
          ]
        }
      ]
    },
    {
      "cell_type": "code",
      "metadata": {
        "colab_type": "code",
        "id": "NkcAR0X9x7P5",
        "colab": {}
      },
      "source": [
        "from input_generator import load_dataset_with_lables\n",
        "\n",
        "\n",
        "# Create train,validation and test examples from tags and labels dataframe\n",
        "(train_ds, train_lb), (val_ds, val_lb), (test_ds, test_lb) = load_dataset_with_lables(final_dataframe, 'category_id')"
      ],
      "execution_count": 0,
      "outputs": []
    },
    {
      "cell_type": "code",
      "metadata": {
        "colab_type": "code",
        "id": "mTXEcDNOLV8f",
        "colab": {}
      },
      "source": [
        "train_ds.values"
      ],
      "execution_count": 0,
      "outputs": []
    },
    {
      "cell_type": "code",
      "metadata": {
        "colab_type": "code",
        "id": "anu8_UhcLYHQ",
        "colab": {}
      },
      "source": [
        "train_lb.values"
      ],
      "execution_count": 0,
      "outputs": []
    },
    {
      "cell_type": "code",
      "metadata": {
        "colab_type": "code",
        "id": "4deamqaKx7P8",
        "colab": {}
      },
      "source": [
        "hidden = 128\n",
        "model = tf.keras.Sequential([\n",
        "    layers.Flatten(),\n",
        "    layers.Dense(hidden,activation='relu'),\n",
        "    layers.Dropout(0.5),\n",
        "    layers.Dense(hidden,activation='relu', kernel_regularizer=keras.regularizers.l2(0.001)),\n",
        "    layers.Dropout(0.5),\n",
        "    layers.Dense(2*hidden,activation='relu', kernel_regularizer=keras.regularizers.l2(0.001)),\n",
        "    layers.Dropout(0.5),\n",
        "    layers.Dense(44, activation='softmax')])\n",
        "\n",
        "model.compile(optimizer='adam',\n",
        "              loss='sparse_categorical_crossentropy',\n",
        "              metrics=['accuracy'],\n",
        "              )\n",
        "\n",
        "history = model.fit(train_ds.values, train_lb.values,\n",
        "                    batch_size=32,\n",
        "                    epochs=6,\n",
        "                    validation_data=(val_ds.values, val_lb.values))\n"
      ],
      "execution_count": 0,
      "outputs": []
    },
    {
      "cell_type": "code",
      "metadata": {
        "colab_type": "code",
        "id": "9i3WGhXCx7P-",
        "colab": {}
      },
      "source": [
        "import matplotlib.pyplot as plt\n",
        "\n",
        "history_dict = history.history\n",
        "acc = history_dict['acc']\n",
        "val_acc = history_dict['val_acc']\n",
        "loss = history_dict['loss']\n",
        "val_loss = history_dict['val_loss']\n",
        "\n",
        "plt.plot(acc)\n",
        "plt.plot(val_acc)\n",
        "plt.title('model accuracy')\n",
        "plt.ylabel('accuracy')\n",
        "plt.xlabel('epoch')\n",
        "plt.legend(['train', 'val'], loc='upper left')\n",
        "plt.show()\n",
        "\n",
        "# summarize history for loss\n",
        "plt.plot(loss)\n",
        "plt.plot(val_loss)\n",
        "plt.title('model loss')\n",
        "plt.ylabel('loss')\n",
        "plt.xlabel('epoch')\n",
        "plt.legend(['train', 'val'], loc='upper left')\n",
        "plt.show()"
      ],
      "execution_count": 0,
      "outputs": []
    },
    {
      "cell_type": "code",
      "metadata": {
        "colab_type": "code",
        "id": "ioAOt_5z8AqB",
        "colab": {}
      },
      "source": [
        "results = model.evaluate(test_ds, test_lb)\n",
        "\n",
        "print(results)"
      ],
      "execution_count": 0,
      "outputs": []
    },
    {
      "cell_type": "code",
      "metadata": {
        "colab_type": "code",
        "id": "bQ300kmfNfr4",
        "colab": {}
      },
      "source": [
        "predictions = model.predict(test_ds)\n",
        "cat_tit_dict = get_category_title_dict('/content/CA_category_id.json')\n"
      ],
      "execution_count": 0,
      "outputs": []
    },
    {
      "cell_type": "code",
      "metadata": {
        "colab_type": "code",
        "id": "BN-KCiOtXLI6",
        "colab": {}
      },
      "source": [
        "def one_hot_to_index(one_hot):\n",
        "    i_tags = []\n",
        "    for i, b in enumerate(one_hot):\n",
        "        if b == 1.0:\n",
        "        i_tags.append(i)      \n",
        "    return i_tags\n",
        "\n",
        "def index_to_tag(i_tags):\n",
        "w_tags = []\n",
        "reversed_vocab_dict = {i: vo for vo, i in voc_di.items()}\n",
        "for index in i_tags:\n",
        "    w_tags.append(reversed_vocab_dict[index])\n",
        "return w_tags\n"
      ],
      "execution_count": 0,
      "outputs": []
    },
    {
      "cell_type": "code",
      "metadata": {
        "colab_type": "code",
        "id": "SezBZd2cO8ZT",
        "colab": {}
      },
      "source": [
        "for i in range(30, 40):\n",
        "    one_hot = one_hot_to_index(test_ds.values[i])\n",
        "    tags_i = index_to_tag(one_hot)\n",
        "    print(tags_i)\n",
        "    print('predict:{}'.format(cat_tit_dict[str(np.argmax(predictions[i]))]))\n",
        "    print('true label:{}'.format(cat_tit_dict[str(test_lb.values[i])]))"
      ],
      "execution_count": 0,
      "outputs": []
    },
    {
      "cell_type": "markdown",
      "metadata": {
        "id": "opbKCgUjWh88",
        "colab_type": "text"
      },
      "source": [
        "# Classifying using tags, number of likes and number of comments\n"
      ]
    },
    {
      "cell_type": "code",
      "metadata": {
        "id": "2etheZExWh89",
        "colab_type": "code",
        "colab": {}
      },
      "source": [
        "full_dataframe = load_dataframe(csvpath, ['tags', 'likes', 'comment_count', 'category_id'])\n",
        "max_of_tags = 25\n",
        "\n",
        "full_dataframe = create_seperate_columns(full_dataframe, max_of_tags, 'tags')\n",
        "\n",
        "full_dataframe.head()"
      ],
      "execution_count": 0,
      "outputs": []
    }
  ]
}