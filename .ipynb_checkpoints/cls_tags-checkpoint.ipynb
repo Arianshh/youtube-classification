{
 "cells": [
  {
   "cell_type": "code",
   "execution_count": null,
   "metadata": {},
   "outputs": [],
   "source": [
    "from __future__ import absolute_import, division, print_function, unicode_literals\n",
    "\n",
    "import numpy as np\n",
    "import pandas as pd\n",
    "\n",
    "import tensorflow as tf\n",
    "\n",
    "from tensorflow import feature_column\n",
    "from tensorflow.keras import layers\n",
    "from sklearn.model_selection import train_test_split\n",
    "\n",
    "\n",
    "from input_generator import load_raw_data, get_tags_as_inputs\n",
    "from data_parser import get_tags_and_labels, get_vocab, get_tags"
   ]
  },
  {
   "cell_type": "code",
   "execution_count": null,
   "metadata": {},
   "outputs": [],
   "source": [
    "csvpath = 'data/CAvideos.cvs'\n",
    "tab_dataframe = get_tags_and_labels(csvpath)\n",
    "\n",
    "# tab_dataframe.dropna(inplace = True) \n",
    "# tab_dataframe[\"tags\"]= tab_dataframe[\"tags\"].str.split('.')\n",
    "\n",
    "# Creating different coloumn based on different tags\n",
    "\n",
    "new = tab_dataframe[\"tags\"].str.split(\".\", expand = True)\n",
    "\n",
    "for i in range(0, 124):\n",
    "    name = \"tags\"+str(i)\n",
    "    tab_dataframe[name] = new[i]\n",
    "\n",
    "# Dropping old Name columns \n",
    "tab_dataframe.drop(columns =[\"tags\"], inplace = True) \n",
    "tab_dataframe.fillna(\"NA\", inplace = True) \n",
    "\n",
    "\n",
    "tab_dataframe.head()"
   ]
  },
  {
   "cell_type": "code",
   "execution_count": null,
   "metadata": {},
   "outputs": [],
   "source": [
    "vocab = get_vocab(get_tags(csvpath))\n",
    "voc_di = {vo:i for i,vo in enumerate(vocab)}\n",
    "for word, index in voc_di.items():   \n",
    "    print(word, index)"
   ]
  },
  {
   "cell_type": "code",
   "execution_count": null,
   "metadata": {
    "scrolled": true
   },
   "outputs": [],
   "source": [
    "for index in range(0, 124):\n",
    "    tab_dataframe['tags{}'.format(index)] = tab_dataframe['tags{}'.format(index)].map(voc_di)\n",
    "    \n",
    "tab_dataframe"
   ]
  },
  {
   "cell_type": "code",
   "execution_count": null,
   "metadata": {},
   "outputs": [],
   "source": [
    "from sklearn import preprocessing\n",
    "\n",
    "# Normalize datas in range[0,1]\n",
    "x = tab_dataframe.values #returns a numpy array\n",
    "min_max_scaler = preprocessing.MinMaxScaler()\n",
    "x_scaled = min_max_scaler.fit_transform(x)\n",
    "tab_dataframe = pd.DataFrame(x_scaled)\n",
    "\n",
    "tab_dataframe"
   ]
  },
  {
   "cell_type": "code",
   "execution_count": null,
   "metadata": {},
   "outputs": [],
   "source": []
  }
 ],
 "metadata": {
  "kernelspec": {
   "display_name": "Python 3",
   "language": "python",
   "name": "python3"
  },
  "language_info": {
   "codemirror_mode": {
    "name": "ipython",
    "version": 3
   },
   "file_extension": ".py",
   "mimetype": "text/x-python",
   "name": "python",
   "nbconvert_exporter": "python",
   "pygments_lexer": "ipython3",
   "version": "3.7.3"
  }
 },
 "nbformat": 4,
 "nbformat_minor": 2
}
