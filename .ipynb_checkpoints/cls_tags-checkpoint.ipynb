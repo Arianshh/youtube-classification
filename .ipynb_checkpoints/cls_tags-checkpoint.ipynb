{
 "cells": [
  {
   "cell_type": "code",
   "execution_count": null,
   "metadata": {},
   "outputs": [],
   "source": [
    "from __future__ import absolute_import, division, print_function, unicode_literals\n",
    "\n",
    "import numpy as np\n",
    "import pandas as pd\n",
    "from tensorflow import keras\n",
    "import tensorflow as tf\n",
    "\n",
    "from tensorflow import feature_column\n",
    "from tensorflow.keras import layers\n",
    "from sklearn.model_selection import train_test_split\n",
    "\n",
    "\n",
    "from input_generator import load_dataset, load_dataset_with_lables\n",
    "from data_parser import *\n",
    "from df import create_seperate_columns, create_listed_columns"
   ]
  },
  {
   "cell_type": "code",
   "execution_count": null,
   "metadata": {
    "scrolled": true
   },
   "outputs": [],
   "source": [
    "# Get dataframe with tags and category_id columns\n",
    "csvpath = 'data\\CAvideos.csv'\n",
    "tab_dataframe = get_tags_and_labels_df(csvpath)\n",
    "max_of_tags = 124\n",
    "tab_dataframe = create_seperate_columns(tab_dataframe, max_of_tags, 'tags')\n",
    "\n",
    "tab_dataframe.head()"
   ]
  },
  {
   "cell_type": "code",
   "execution_count": null,
   "metadata": {},
   "outputs": [],
   "source": [
    "# Getting leaning vocab\n",
    "vocab = get_vocab(tab_dataframe['tags'])\n",
    "\n",
    "# Convert vocab to dictionary\n",
    "voc_di = {i: vo for i, vo in enumerate(vocab)}\n",
    "voc_di[0] = 'notags'\n",
    "voc_di = {vo: i for i, vo in voc_di.items()}\n",
    "\n",
    "# Mapping tags to indexes in vocab\n",
    "for index in range(0, max_of_tags):\n",
    "    tab_dataframe['tags{}'.format(index)] = tab_dataframe['tags{}'.format(index)].map(voc_di)\n",
    "\n",
    "tab_dataframe.fillna(0.0, inplace = True) \n",
    "tab_dataframe.head()"
   ]
  },
  {
   "cell_type": "code",
   "execution_count": null,
   "metadata": {},
   "outputs": [],
   "source": [
    "threshold = 1000 # Anything that occurs less than this will be removed.\n",
    "value_counts = tab_dataframe.stack().value_counts() # Entire DataFrame \n",
    "to_remove = value_counts[value_counts <= threshold].index\n",
    "tab_dataframe.replace(to_remove, np.nan, inplace=True)\n"
   ]
  },
  {
   "cell_type": "code",
   "execution_count": null,
   "metadata": {},
   "outputs": [],
   "source": [
    "future_df = []\n",
    "col_row_dict = {}\n",
    "\n",
    "for i in range(0, 40881):\n",
    "    for col in tab_dataframe.columns:\n",
    "        if col == 'category_id':\n",
    "            col_row_dict.update({'category_id':tab_dataframe[col][i]})\n",
    "        else:\n",
    "            col_row_dict.update({'tag{}'.format(tab_dataframe[col][i]):1.0})\n",
    "    future_df.append(col_row_dict)\n",
    "    col_row_dict = {}"
   ]
  },
  {
   "cell_type": "code",
   "execution_count": null,
   "metadata": {
    "scrolled": false
   },
   "outputs": [],
   "source": [
    "future_df[1:3]"
   ]
  },
  {
   "cell_type": "code",
   "execution_count": null,
   "metadata": {},
   "outputs": [],
   "source": [
    "voc_fd_list = []\n",
    "\n",
    "temp = pd.DataFrame(future_df[0:25000])\n",
    "temp.fillna(0.0, inplace = True)\n",
    "voc_fd_list.append(temp)"
   ]
  },
  {
   "cell_type": "code",
   "execution_count": null,
   "metadata": {},
   "outputs": [],
   "source": [
    "temp = pd.DataFrame(future_df[25000:])\n",
    "temp.fillna(0.0, inplace = True)\n",
    "voc_fd_list.append(temp)"
   ]
  },
  {
   "cell_type": "code",
   "execution_count": null,
   "metadata": {},
   "outputs": [],
   "source": [
    "merged_df = pd.merge(voc_df_list[0], voc_df_list[1], on='category_id')\n",
    "merged_df.head()"
   ]
  },
  {
   "cell_type": "code",
   "execution_count": null,
   "metadata": {},
   "outputs": [],
   "source": [
    "# Create train,validation and test examples from dataframe\n",
    "(train_ds, train_lb), (val_ds, val_lb), (test_ds, test_lb) = load_dataset_with_lables(voc_fd, 'category_id')"
   ]
  },
  {
   "cell_type": "code",
   "execution_count": null,
   "metadata": {},
   "outputs": [],
   "source": [
    "# first 5 training examples\n",
    "print(train_ds.values[5:10])\n",
    "train_lb.values[0:5]"
   ]
  },
  {
   "cell_type": "code",
   "execution_count": null,
   "metadata": {},
   "outputs": [],
   "source": [
    "hidden = 64\n",
    "model = tf.keras.Sequential([\n",
    "    layers.Flatten(),\n",
    "    layers.Dense(hidden,activation='relu', kernel_regularizer=keras.regularizers.l2(0.001)),\n",
    "    layers.Dense(2*hidden,activation='relu', kernel_regularizer=keras.regularizers.l2(0.001)),\n",
    "    layers.Dense(44, activation='softmax')])\n",
    "\n",
    "model.compile(optimizer='nadam',\n",
    "              loss='sparse_categorical_crossentropy',\n",
    "              metrics=['accuracy'],\n",
    "              )\n",
    "\n",
    "history = model.fit(train_ds.values, train_lb.values,\n",
    "                    batch_size=32,\n",
    "                    epochs=20,\n",
    "                    validation_data=(val_ds, val_lb))\n"
   ]
  },
  {
   "cell_type": "code",
   "execution_count": null,
   "metadata": {},
   "outputs": [],
   "source": []
  }
 ],
 "metadata": {
  "kernelspec": {
   "display_name": "Python 3",
   "language": "python",
   "name": "python3"
  },
  "language_info": {
   "codemirror_mode": {
    "name": "ipython",
    "version": 3
   },
   "file_extension": ".py",
   "mimetype": "text/x-python",
   "name": "python",
   "nbconvert_exporter": "python",
   "pygments_lexer": "ipython3",
   "version": "3.7.4"
  }
 },
 "nbformat": 4,
 "nbformat_minor": 2
}
